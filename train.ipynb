{
 "cells": [
  {
   "cell_type": "code",
   "execution_count": 8,
   "metadata": {},
   "outputs": [
    {
     "output_type": "stream",
     "name": "stdout",
     "text": "True\n"
    }
   ],
   "source": [
    "import torch\n",
    "import torch.nn as nn\n",
    "import torch.nn.functional as F\n",
    "import numpy as np\n",
    "import os\n",
    "import matplotlib.pyplot as plt\n",
    "import cv2\n",
    "import torch.optim as optim\n",
    "from torchvision import transforms,utils\n",
    "from torch.utils.data import DataLoader,Dataset\n",
    "from PIL import Image\n",
    "import tqdm\n",
    "print(torch.cuda.is_available())"
   ]
  },
  {
   "cell_type": "code",
   "execution_count": 9,
   "metadata": {},
   "outputs": [],
   "source": [
    "class CIFAR(Dataset) :\n",
    "\n",
    "    def __init__(self, root_dir, transform=None):\n",
    "        self.root_dir = root_dir\n",
    "        self.dir = os.listdir(self.root_dir)\n",
    "        self.transform = transform\n",
    "        self.data = []\n",
    "        for k in tqdm.trange(len(self.dir)) :\n",
    "            i = self.dir[k]\n",
    "            images = os.listdir(os.path.join(self.root_dir, i))\n",
    "            input_image = None\n",
    "            support_image = []\n",
    "            input_label = None\n",
    "            support_label = []\n",
    "            for image in images :\n",
    "                temp = cv2.imread(os.path.join(self.root_dir, i, image))\n",
    "                temp = Image.fromarray(temp)\n",
    "                if self.transform :\n",
    "                    temp = self.transform(temp)\n",
    "                if image[2] == 'I' :\n",
    "                    input_image = temp\n",
    "                    input_label = int(image[0])\n",
    "                else :\n",
    "                    support_image.append(temp)\n",
    "                    support_label.append(int(image[0]))\n",
    "            # input_label = torch.Tensor(input_label)\n",
    "            support_label = torch.Tensor(np.asarray(support_label))\n",
    "            support_image = torch.from_numpy(np.stack(support_image))\n",
    "            sample = {\"input_image\":input_image,\"input_label\":input_label,\"support_image\":support_image,\"support_label\":support_label}\n",
    "            self.data.append(sample)\n",
    "    \n",
    "    def __len__(self) :\n",
    "        return len(self.data)\n",
    "    \n",
    "    def __getitem__(self, idx) :\n",
    "        if torch.is_tensor(idx) :\n",
    "            idx = idx.tolist()\n",
    "        \n",
    "        return self.data[idx]"
   ]
  },
  {
   "cell_type": "code",
   "execution_count": 10,
   "metadata": {},
   "outputs": [
    {
     "output_type": "stream",
     "name": "stderr",
     "text": "100%|██████████| 50000/50000 [01:14<00:00, 672.50it/s]\n"
    }
   ],
   "source": [
    "dataset = CIFAR('data',transform=transforms.Compose([transforms.Resize(32),transforms.ToTensor(),transforms.Normalize((0.5,0.5,0.5),(0.5,0.5,0.5))]))"
   ]
  },
  {
   "cell_type": "code",
   "execution_count": 11,
   "metadata": {},
   "outputs": [
    {
     "output_type": "stream",
     "name": "stderr",
     "text": "100%|██████████| 5000/5000 [00:08<00:00, 608.79it/s]\n"
    }
   ],
   "source": [
    "testdata = CIFAR('test_data',transform=transforms.Compose([transforms.Resize(32),transforms.ToTensor(),transforms.Normalize((0.5,0.5,0.5),(0.5,0.5,0.5))]))"
   ]
  },
  {
   "cell_type": "code",
   "execution_count": 51,
   "metadata": {},
   "outputs": [],
   "source": [
    "device = torch.device(\"cuda:0\" if (torch.cuda.is_available()) else \"cpu\")\n",
    "train_loader = DataLoader(dataset, batch_size=32, shuffle=True, num_workers=4)\n",
    "test_loader = DataLoader(testdata, batch_size=32, shuffle=True, num_workers=4)"
   ]
  },
  {
   "cell_type": "code",
   "execution_count": 52,
   "metadata": {},
   "outputs": [],
   "source": [
    "class Network(nn.Module) :\n",
    "    def __init__(self):\n",
    "        super(Network, self).__init__()\n",
    "        self.main = nn.Sequential(\n",
    "            \n",
    "            nn.Conv2d(in_channels=3, out_channels=8, kernel_size=(4,4), stride=(2,2), padding=(1,1)),\n",
    "            nn.BatchNorm2d(8),\n",
    "            nn.ReLU(True),\n",
    "            \n",
    "            nn.Conv2d(in_channels=8, out_channels=16, kernel_size=(4,4), stride=(2,2), padding=(1,1)),\n",
    "            nn.BatchNorm2d(16),\n",
    "            nn.ReLU(True),\n",
    "            \n",
    "            nn.Conv2d(in_channels=16, out_channels=32, kernel_size=(4,4), stride=(2,2), padding=(1,1)),\n",
    "            nn.BatchNorm2d(32),\n",
    "            nn.ReLU(True),\n",
    "        )\n",
    "        self.fc1 = nn.Linear(32*4*4,64)\n",
    "        self.drop = nn.Dropout(p=0.33)\n",
    "        self.fc2 = nn.Linear(64,16)\n",
    "        self.relu = nn.ReLU()\n",
    "    \n",
    "    def forward(self, x):\n",
    "        x = self.main(x)\n",
    "        x = x.view(-1,self.num_flat_features(x))\n",
    "        x = self.fc2(self.drop(self.relu(self.fc1(x))))\n",
    "        x = x / torch.sqrt(torch.sum(x**2,dim=1).unsqueeze(1))\n",
    "        return x\n",
    "    \n",
    "    def num_flat_features(self,x) :\n",
    "        size = x.size()[1:]\n",
    "        num_features = 1\n",
    "        for s in size:\n",
    "            num_features *=s\n",
    "        return num_features"
   ]
  },
  {
   "cell_type": "code",
   "execution_count": 53,
   "metadata": {},
   "outputs": [],
   "source": [
    "F = Network().to(device)\n",
    "# G = Network().to(device)\n",
    "optimF = optim.Adam(F.parameters(), lr=0.005)\n",
    "# optimG = optim.Adam(G.parameters(), lr=0.005)\n",
    "\n",
    "crtierion = nn.BCELoss()\n",
    "softmax = nn.Softmax(dim=1)\n",
    "sim = nn.CosineSimilarity(dim=2)"
   ]
  },
  {
   "cell_type": "code",
   "execution_count": 50,
   "metadata": {
    "scrolled": true,
    "tags": [
     "outputPrepend",
     "outputPrepend",
     "outputPrepend",
     "outputPrepend",
     "outputPrepend",
     "outputPrepend",
     "outputPrepend",
     "outputPrepend",
     "outputPrepend",
     "outputPrepend",
     "outputPrepend",
     "outputPrepend",
     "outputPrepend",
     "outputPrepend",
     "outputPrepend"
    ]
   },
   "outputs": [
    {
     "output_type": "error",
     "ename": "KeyboardInterrupt",
     "evalue": "",
     "traceback": [
      "\u001b[0;31m---------------------------------------------------------------------------\u001b[0m",
      "\u001b[0;31mKeyboardInterrupt\u001b[0m                         Traceback (most recent call last)",
      "\u001b[0;32m<ipython-input-50-8d10bd2b3cda>\u001b[0m in \u001b[0;36m<module>\u001b[0;34m\u001b[0m\n\u001b[1;32m     18\u001b[0m         \u001b[0mtarget\u001b[0m \u001b[0;34m=\u001b[0m \u001b[0;34m(\u001b[0m\u001b[0;34m(\u001b[0m\u001b[0msupport_label\u001b[0m\u001b[0;34m==\u001b[0m\u001b[0minput_label\u001b[0m\u001b[0;34m)\u001b[0m\u001b[0;34m.\u001b[0m\u001b[0mfloat\u001b[0m\u001b[0;34m(\u001b[0m\u001b[0;34m)\u001b[0m\u001b[0;34m)\u001b[0m\u001b[0;34m.\u001b[0m\u001b[0mdetach\u001b[0m\u001b[0;34m(\u001b[0m\u001b[0;34m)\u001b[0m\u001b[0;34m\u001b[0m\u001b[0;34m\u001b[0m\u001b[0m\n\u001b[1;32m     19\u001b[0m         \u001b[0moutput\u001b[0m \u001b[0;34m=\u001b[0m \u001b[0msoftmax\u001b[0m\u001b[0;34m(\u001b[0m\u001b[0msim\u001b[0m\u001b[0;34m(\u001b[0m\u001b[0msupport_embed\u001b[0m\u001b[0;34m,\u001b[0m \u001b[0minput_embed\u001b[0m\u001b[0;34m)\u001b[0m\u001b[0;34m)\u001b[0m\u001b[0;34m\u001b[0m\u001b[0;34m\u001b[0m\u001b[0m\n\u001b[0;32m---> 20\u001b[0;31m         \u001b[0mloss\u001b[0m \u001b[0;34m=\u001b[0m \u001b[0mcrtierion\u001b[0m\u001b[0;34m(\u001b[0m\u001b[0moutput\u001b[0m\u001b[0;34m,\u001b[0m\u001b[0mtarget\u001b[0m\u001b[0;34m)\u001b[0m\u001b[0;34m\u001b[0m\u001b[0;34m\u001b[0m\u001b[0m\n\u001b[0m\u001b[1;32m     21\u001b[0m         \u001b[0mloss\u001b[0m\u001b[0;34m.\u001b[0m\u001b[0mbackward\u001b[0m\u001b[0;34m(\u001b[0m\u001b[0;34m)\u001b[0m\u001b[0;34m\u001b[0m\u001b[0;34m\u001b[0m\u001b[0m\n\u001b[1;32m     22\u001b[0m         \u001b[0moptimF\u001b[0m\u001b[0;34m.\u001b[0m\u001b[0mstep\u001b[0m\u001b[0;34m(\u001b[0m\u001b[0;34m)\u001b[0m\u001b[0;34m\u001b[0m\u001b[0;34m\u001b[0m\u001b[0m\n",
      "\u001b[0;32m~/anaconda3/envs/tfgpu/lib/python3.6/site-packages/torch/nn/modules/module.py\u001b[0m in \u001b[0;36m__call__\u001b[0;34m(self, *input, **kwargs)\u001b[0m\n\u001b[1;32m    530\u001b[0m             \u001b[0mresult\u001b[0m \u001b[0;34m=\u001b[0m \u001b[0mself\u001b[0m\u001b[0;34m.\u001b[0m\u001b[0m_slow_forward\u001b[0m\u001b[0;34m(\u001b[0m\u001b[0;34m*\u001b[0m\u001b[0minput\u001b[0m\u001b[0;34m,\u001b[0m \u001b[0;34m**\u001b[0m\u001b[0mkwargs\u001b[0m\u001b[0;34m)\u001b[0m\u001b[0;34m\u001b[0m\u001b[0;34m\u001b[0m\u001b[0m\n\u001b[1;32m    531\u001b[0m         \u001b[0;32melse\u001b[0m\u001b[0;34m:\u001b[0m\u001b[0;34m\u001b[0m\u001b[0;34m\u001b[0m\u001b[0m\n\u001b[0;32m--> 532\u001b[0;31m             \u001b[0mresult\u001b[0m \u001b[0;34m=\u001b[0m \u001b[0mself\u001b[0m\u001b[0;34m.\u001b[0m\u001b[0mforward\u001b[0m\u001b[0;34m(\u001b[0m\u001b[0;34m*\u001b[0m\u001b[0minput\u001b[0m\u001b[0;34m,\u001b[0m \u001b[0;34m**\u001b[0m\u001b[0mkwargs\u001b[0m\u001b[0;34m)\u001b[0m\u001b[0;34m\u001b[0m\u001b[0;34m\u001b[0m\u001b[0m\n\u001b[0m\u001b[1;32m    533\u001b[0m         \u001b[0;32mfor\u001b[0m \u001b[0mhook\u001b[0m \u001b[0;32min\u001b[0m \u001b[0mself\u001b[0m\u001b[0;34m.\u001b[0m\u001b[0m_forward_hooks\u001b[0m\u001b[0;34m.\u001b[0m\u001b[0mvalues\u001b[0m\u001b[0;34m(\u001b[0m\u001b[0;34m)\u001b[0m\u001b[0;34m:\u001b[0m\u001b[0;34m\u001b[0m\u001b[0;34m\u001b[0m\u001b[0m\n\u001b[1;32m    534\u001b[0m             \u001b[0mhook_result\u001b[0m \u001b[0;34m=\u001b[0m \u001b[0mhook\u001b[0m\u001b[0;34m(\u001b[0m\u001b[0mself\u001b[0m\u001b[0;34m,\u001b[0m \u001b[0minput\u001b[0m\u001b[0;34m,\u001b[0m \u001b[0mresult\u001b[0m\u001b[0;34m)\u001b[0m\u001b[0;34m\u001b[0m\u001b[0;34m\u001b[0m\u001b[0m\n",
      "\u001b[0;32m~/anaconda3/envs/tfgpu/lib/python3.6/site-packages/torch/nn/modules/loss.py\u001b[0m in \u001b[0;36mforward\u001b[0;34m(self, input, target)\u001b[0m\n\u001b[1;32m    496\u001b[0m \u001b[0;34m\u001b[0m\u001b[0m\n\u001b[1;32m    497\u001b[0m     \u001b[0;32mdef\u001b[0m \u001b[0mforward\u001b[0m\u001b[0;34m(\u001b[0m\u001b[0mself\u001b[0m\u001b[0;34m,\u001b[0m \u001b[0minput\u001b[0m\u001b[0;34m,\u001b[0m \u001b[0mtarget\u001b[0m\u001b[0;34m)\u001b[0m\u001b[0;34m:\u001b[0m\u001b[0;34m\u001b[0m\u001b[0;34m\u001b[0m\u001b[0m\n\u001b[0;32m--> 498\u001b[0;31m         \u001b[0;32mreturn\u001b[0m \u001b[0mF\u001b[0m\u001b[0;34m.\u001b[0m\u001b[0mbinary_cross_entropy\u001b[0m\u001b[0;34m(\u001b[0m\u001b[0minput\u001b[0m\u001b[0;34m,\u001b[0m \u001b[0mtarget\u001b[0m\u001b[0;34m,\u001b[0m \u001b[0mweight\u001b[0m\u001b[0;34m=\u001b[0m\u001b[0mself\u001b[0m\u001b[0;34m.\u001b[0m\u001b[0mweight\u001b[0m\u001b[0;34m,\u001b[0m \u001b[0mreduction\u001b[0m\u001b[0;34m=\u001b[0m\u001b[0mself\u001b[0m\u001b[0;34m.\u001b[0m\u001b[0mreduction\u001b[0m\u001b[0;34m)\u001b[0m\u001b[0;34m\u001b[0m\u001b[0;34m\u001b[0m\u001b[0m\n\u001b[0m\u001b[1;32m    499\u001b[0m \u001b[0;34m\u001b[0m\u001b[0m\n\u001b[1;32m    500\u001b[0m \u001b[0;34m\u001b[0m\u001b[0m\n",
      "\u001b[0;32m~/anaconda3/envs/tfgpu/lib/python3.6/site-packages/torch/nn/functional.py\u001b[0m in \u001b[0;36mbinary_cross_entropy\u001b[0;34m(input, target, weight, size_average, reduce, reduction)\u001b[0m\n\u001b[1;32m   2075\u001b[0m \u001b[0;34m\u001b[0m\u001b[0m\n\u001b[1;32m   2076\u001b[0m     return torch._C._nn.binary_cross_entropy(\n\u001b[0;32m-> 2077\u001b[0;31m         input, target, weight, reduction_enum)\n\u001b[0m\u001b[1;32m   2078\u001b[0m \u001b[0;34m\u001b[0m\u001b[0m\n\u001b[1;32m   2079\u001b[0m \u001b[0;34m\u001b[0m\u001b[0m\n",
      "\u001b[0;31mKeyboardInterrupt\u001b[0m: "
     ]
    }
   ],
   "source": [
    "num_epochs = 100\n",
    "losses = []\n",
    "for epoch in range(num_epochs) :\n",
    "    F.train()\n",
    "    # G.train()\n",
    "    batch_loss = []\n",
    "    for id, (input) in enumerate(train_loader) :\n",
    "        optimF.zero_grad()\n",
    "        # optimG.zero_grad()\n",
    "        input_image = input[\"input_image\"].to(device)\n",
    "        input_label = input[\"input_label\"].to(device).unsqueeze(1).expand(-1,4)\n",
    "        support_image = input[\"support_image\"].to(device)\n",
    "        support_label = input[\"support_label\"].to(device)\n",
    "        batch_size = support_label.size(0)\n",
    "        support_image = support_image.view(-1,3,32,32)\n",
    "        support_embed = F(support_image).view(batch_size,-1,16)\n",
    "        input_embed = F(input_image).unsqueeze(1).expand(-1,support_embed.size(1),-1)\n",
    "        target = ((support_label==input_label).float()).detach()\n",
    "        output = softmax(sim(support_embed, input_embed))\n",
    "        loss = crtierion(output,target)\n",
    "        loss.backward()\n",
    "        optimF.step()\n",
    "        # optimG.step()\n",
    "        batch_loss.append(loss)\n",
    "    print(\"{}: Average Loss: {}\".format(epoch, sum(batch_loss)/len(batch_loss))),\n",
    "    \n",
    "    correct = 0.0\n",
    "    total = 0.0\n",
    "    F.eval()\n",
    "    # G.eval()\n",
    "    for id, (input) in enumerate(train_loader) :\n",
    "        input_image = input[\"input_image\"].to(device)\n",
    "        input_label = input[\"input_label\"].to(device).unsqueeze(1).expand(-1,4)\n",
    "        support_image = input[\"support_image\"].to(device)\n",
    "        support_label = input[\"support_label\"].to(device)\n",
    "        batch_size = support_label.size(0)\n",
    "        support_image = support_image.view(-1,3,32,32)\n",
    "        support_embed = F(support_image).view(batch_size,-1,16)\n",
    "        input_embed = F(input_image).unsqueeze(1).expand(-1,support_embed.size(1),-1)\n",
    "        target = torch.argmax((support_label==input_label).float(),dim=1)\n",
    "        output = torch.argmax(softmax(sim(support_embed, input_embed)),dim=1)\n",
    "        correct += (target==output).sum().item()\n",
    "        total += batch_size\n",
    "    print(\"Train Accuracy: {}\".format(correct/total)),\n",
    "    correct = 0.0\n",
    "    total = 0.0\n",
    "    for id, (input) in enumerate(test_loader) :\n",
    "        input_image = input[\"input_image\"].to(device)\n",
    "        input_label = input[\"input_label\"].to(device).unsqueeze(1).expand(-1,4)\n",
    "        support_image = input[\"support_image\"].to(device)\n",
    "        support_label = input[\"support_label\"].to(device)\n",
    "        batch_size = support_label.size(0)\n",
    "        support_image = support_image.view(-1,3,32,32)\n",
    "        support_embed = F(support_image).view(batch_size,-1,16)\n",
    "        input_embed = F(input_image).unsqueeze(1).expand(-1,support_embed.size(1),-1)\n",
    "        target = torch.argmax((support_label==input_label).float(),dim=1)\n",
    "        output = torch.argmax(softmax(sim(support_embed, input_embed)),dim=1)\n",
    "        correct += (target==output).sum().item()\n",
    "        total += batch_size\n",
    "    print(\"Test Accuracy: {}\".format(correct/total))"
   ]
  },
  {
   "cell_type": "code",
   "execution_count": null,
   "metadata": {},
   "outputs": [],
   "source": [
    "path = os.path.join(os.getcwd,\"result.pth\")\n",
    "params = {\n",
    "            'F': F.state_dict(),\n",
    "            'G': G.state_dict(),\n",
    "        }\n",
    "torch.save(params, path)"
   ]
  }
 ],
 "metadata": {
  "kernelspec": {
   "display_name": "Python 3",
   "language": "python",
   "name": "python3"
  },
  "language_info": {
   "codemirror_mode": {
    "name": "ipython",
    "version": 3
   },
   "file_extension": ".py",
   "mimetype": "text/x-python",
   "name": "python",
   "nbconvert_exporter": "python",
   "pygments_lexer": "ipython3",
   "version": "3.6.10-final"
  }
 },
 "nbformat": 4,
 "nbformat_minor": 4
}